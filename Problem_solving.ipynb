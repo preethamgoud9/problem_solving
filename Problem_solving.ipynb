{
 "cells": [
  {
   "cell_type": "code",
   "execution_count": 1,
   "metadata": {},
   "outputs": [
    {
     "name": "stdout",
     "output_type": "stream",
     "text": [
      "the oldest age: 12\n"
     ]
    }
   ],
   "source": [
    "#1.User will input (3ages).Find the oldest one\n",
    "arr = list(map(int,input(\"Enter numbers: \").split()))\n",
    "print(\"the oldest age:\", max(arr))"
   ]
  },
  {
   "cell_type": "code",
   "execution_count": 7,
   "metadata": {},
   "outputs": [
    {
     "name": "stdout",
     "output_type": "stream",
     "text": [
      "12 C is equal to 53.6 F\n"
     ]
    }
   ],
   "source": [
    "#2.Write a program that will convert celsius value to fahrenheit\n",
    "celsius = int(input(\"Enter temperature in celsius: \"))\n",
    "fahrenheit = (celsius * 9/5)  + 32 \n",
    "print(f\"{celsius} C is equal to {fahrenheit} F\")\n"
   ]
  },
  {
   "cell_type": "code",
   "execution_count": 8,
   "metadata": {},
   "outputs": [
    {
     "name": "stdout",
     "output_type": "stream",
     "text": [
      "Before Swap:\n",
      "X = 12\n",
      "Y = 2\n",
      "After Swap:\n",
      "X = 2\n",
      "Y = 12\n"
     ]
    }
   ],
   "source": [
    "x = int(input(\"Value of X: \"))  # Take input for X\n",
    "y = int(input(\"Value of Y: \"))  # Take input for Y\n",
    "\n",
    "print(\"Before Swap:\")\n",
    "print(\"X =\", x)\n",
    "print(\"Y =\", y)\n",
    "\n",
    "# Swapping using a temporary variable\n",
    "temp = x  # Store the value of x in temp\n",
    "x = y     # Assign y to x\n",
    "y = temp  # Assign temp (original x) to y\n",
    "print(\"After Swap:\")\n",
    "print(\"X =\", x)\n",
    "print(\"Y =\", y)"
   ]
  },
  {
   "cell_type": "code",
   "execution_count": 9,
   "metadata": {},
   "outputs": [
    {
     "name": "stdout",
     "output_type": "stream",
     "text": [
      "7\n"
     ]
    }
   ],
   "source": [
    "#4.Write a program that will give you the sum of 3 digits\n",
    "x = int(input(\"what is X?\"))\n",
    "y = int(input(\"what is Y?\"))\n",
    "z = int(input(\"what is Z?\"))\n",
    "values = x + y + z\n",
    "print(values)\n"
   ]
  },
  {
   "cell_type": "code",
   "execution_count": 10,
   "metadata": {},
   "outputs": [
    {
     "name": "stdout",
     "output_type": "stream",
     "text": [
      "Invalid input! Please enter a valid 4-digit number.\n"
     ]
    }
   ],
   "source": [
    "#5.Write a program that will reverse a four digit number.Also it checks whether the reverse is true.\n",
    "number = (input(\"give me 4digit number\"))\n",
    "\n",
    "if number.isdigit() and len(number) == 4:\n",
    "    reverse = number[::-1]\n",
    "    print(\"Original Number is: \",number)\n",
    "    print(\"Reverse Number is: \",reverse)\n",
    "\n",
    "    if number == reverse:\n",
    "        print(\"the number is same when reversed aka palindrome\")\n",
    "    else:\n",
    "        print(\"the number is not same when reversed\")\n",
    "else:\n",
    "    print(\"Invalid input! Please enter a valid 4-digit number.\")"
   ]
  },
  {
   "cell_type": "code",
   "execution_count": 11,
   "metadata": {},
   "outputs": [
    {
     "name": "stdout",
     "output_type": "stream",
     "text": [
      "Even\n"
     ]
    }
   ],
   "source": [
    "#6.Write a program that will tell whether the number entered by the user is odd or even.\n",
    "number = int(input(\"enter the number\"))\n",
    "\n",
    "if number%2 == 0:\n",
    "    print(\"Even\")\n",
    "else:\n",
    "    print(\"Odd\")"
   ]
  },
  {
   "cell_type": "code",
   "execution_count": 25,
   "metadata": {},
   "outputs": [
    {
     "name": "stdout",
     "output_type": "stream",
     "text": [
      "Leap Year\n"
     ]
    }
   ],
   "source": [
    "# 7.Write a program that will tell whether the given year is a leap year or not.\n",
    "\n",
    "year = int(input(\"what is the year?\"))\n",
    "\n",
    "if (year%4 == 0 and year%100 != 0) or year%400 == 0:\n",
    "    print(\"Leap Year\")\n",
    "else:\n",
    "    print(\"Not Leap Year\")"
   ]
  },
  {
   "cell_type": "code",
   "execution_count": 55,
   "metadata": {},
   "outputs": [
    {
     "name": "stdout",
     "output_type": "stream",
     "text": [
      "^x: 2 ^y: 2\n",
      "Euclidean distance: 2.8284 \n"
     ]
    }
   ],
   "source": [
    "# 8. Write a program to find the euclidean distance between two coordinates.\n",
    "import math\n",
    "values = list(map(int,input(\"Enter x1 y1 x2 y2 :\").split()))\n",
    "x1, y1 , x2 , y2 = values\n",
    "\n",
    "delta_x = x2 - x1\n",
    "delta_y = y2 -y1\n",
    "print(\"^x:\" , delta_x,\"^y:\" ,delta_y)\n",
    "distance = math.sqrt(delta_x**2 +delta_y**2)\n",
    "print(f\"Euclidean distance: {distance:.4f} \")\n"
   ]
  },
  {
   "cell_type": "code",
   "execution_count": 66,
   "metadata": {},
   "outputs": [
    {
     "name": "stdout",
     "output_type": "stream",
     "text": [
      "It forms an triangle\n"
     ]
    }
   ],
   "source": [
    "#9. Write a program that take a user input of three angles and will find out whether it can form a triangle or not.\n",
    "a,b,c = list(map(int,input(\"give three angles \").split()))\n",
    "\n",
    "if a + b + c == 180 and a>0 and b>0 and c>0:\n",
    "    print(\"It forms an triangle\")\n",
    "else:\n",
    "    print(\"not an triangle\")"
   ]
  },
  {
   "cell_type": "code",
   "execution_count": null,
   "metadata": {},
   "outputs": [
    {
     "name": "stdout",
     "output_type": "stream",
     "text": [
      "profit\n"
     ]
    }
   ],
   "source": [
    "# 10. Write a program that will take user input of cost price and selling price and determines whether its a loss or a profit\n",
    "costPrice = int(input(\"what is the Cost Price?\"))\n",
    "sellingPrice = int(input(\"what is the Selling Price?\"))\n",
    "\n",
    "if costPrice < sellingPrice:\n",
    "    print(\"profit\")\n",
    "elif costPrice > sellingPrice:\n",
    "    print(\"loss\")\n",
    "else:\n",
    "    print(\"break even\")"
   ]
  },
  {
   "cell_type": "code",
   "execution_count": null,
   "metadata": {},
   "outputs": [
    {
     "name": "stdout",
     "output_type": "stream",
     "text": [
      "21 21.0 21\n",
      "Simple Interest: 7.7175\n"
     ]
    }
   ],
   "source": [
    "#11. Write a program to find the simple interest when the value of principle,rate of interest and time period is given.\n",
    "principle = int(input(\"what is principle?\"))\n",
    "interest = float(input(\"what is the interest?\"))\n",
    "time_period = int(input(\"what is the time period in months?\")) #if it is in years use only /100 not /(100*12)\n",
    "print(principle,interest,time_period)\n",
    "simple_interest = principle * interest * time_period / (100 * 12)\n",
    "print(f\"Simple Interest: {simple_interest}\")\n"
   ]
  },
  {
   "cell_type": "code",
   "execution_count": null,
   "metadata": {},
   "outputs": [
    {
     "name": "stdout",
     "output_type": "stream",
     "text": [
      "radius: 20.00\n",
      "height: 20.00\n",
      "volume of the cylinder: 25132.72\n",
      "volume in litres : 25.13272\n",
      "the cost of milk for 25.13272 litres is: 1005.3088\n"
     ]
    }
   ],
   "source": [
    "#12. Write a program to find the volume of the cylinder. Also find the cost when,when the cost of 1litre milk is 40Rs.\n",
    "radius = int(input(\"what is the radius of the cylinder(in cm)?\"))\n",
    "height = int(input(\"what is the height of the cylinder?(in cm)\"))\n",
    "pi = 3.14159\n",
    "\n",
    "volume_of_cylinder = (radius **2) * height * pi\n",
    "print(f\"radius: {radius:.2f}\")\n",
    "print(f\"height: {height:.2f}\")\n",
    "print(f\"volume of the cylinder: {volume_of_cylinder:.2f}\")\n",
    "\n",
    "\n",
    "#now convert the volume in cm to litres \n",
    "volume_in_litres = volume_of_cylinder/1000\n",
    "print(f\"volume in litres : {volume_in_litres}\")\n",
    "cost = volume_in_litres * 40\n",
    "print(f\"the cost of milk for {volume_in_litres} litres is: {cost}\")\n"
   ]
  },
  {
   "cell_type": "code",
   "execution_count": null,
   "metadata": {},
   "outputs": [],
   "source": []
  }
 ],
 "metadata": {
  "kernelspec": {
   "display_name": "myenv",
   "language": "python",
   "name": "python3"
  },
  "language_info": {
   "codemirror_mode": {
    "name": "ipython",
    "version": 3
   },
   "file_extension": ".py",
   "mimetype": "text/x-python",
   "name": "python",
   "nbconvert_exporter": "python",
   "pygments_lexer": "ipython3",
   "version": "3.13.2"
  }
 },
 "nbformat": 4,
 "nbformat_minor": 2
}
