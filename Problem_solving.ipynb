{
 "cells": [
  {
   "cell_type": "code",
   "execution_count": 2,
   "metadata": {},
   "outputs": [
    {
     "name": "stdout",
     "output_type": "stream",
     "text": [
      "the oldest age: 21\n"
     ]
    }
   ],
   "source": [
    "#1.User will input (3ages).Find the oldest one\n",
    "arr = list(map(int,input(\"Enter numbers: \").split()))\n",
    "print(\"the oldest age:\", max(arr))"
   ]
  },
  {
   "cell_type": "code",
   "execution_count": null,
   "metadata": {},
   "outputs": [],
   "source": [
    "#2.Write a program that will convert celsius value to fahrenheit\n",
    "celsius = int(input(\"Enter temperature in celsius: \"))\n",
    "fahrenheit = (celsius * 9/5)  + 32 \n",
    "print(f\"{celsius} C is equal to {fahrenheit} F\")\n"
   ]
  },
  {
   "cell_type": "code",
   "execution_count": null,
   "metadata": {},
   "outputs": [
    {
     "name": "stdout",
     "output_type": "stream",
     "text": [
      "Before Swap:\n",
      "X = 12\n",
      "Y = 2\n",
      "After Swap:\n",
      "X = 2\n",
      "Y = 12\n"
     ]
    }
   ],
   "source": [
    "x = int(input(\"Value of X: \"))  # Take input for X\n",
    "y = int(input(\"Value of Y: \"))  # Take input for Y\n",
    "\n",
    "print(\"Before Swap:\")\n",
    "print(\"X =\", x)\n",
    "print(\"Y =\", y)\n",
    "\n",
    "# Swapping using a temporary variable\n",
    "temp = x  # Store the value of x in temp\n",
    "x = y     # Assign y to x\n",
    "y = temp  # Assign temp (original x) to y\n",
    "print(\"After Swap:\")\n",
    "print(\"X =\", x)\n",
    "print(\"Y =\", y)"
   ]
  },
  {
   "cell_type": "code",
   "execution_count": null,
   "metadata": {},
   "outputs": [
    {
     "name": "stdout",
     "output_type": "stream",
     "text": [
      "7\n"
     ]
    }
   ],
   "source": [
    "#4.Write a program that will give you the sum of 3 digits\n",
    "x = int(input(\"what is X?\"))\n",
    "y = int(input(\"what is Y?\"))\n",
    "z = int(input(\"what is Z?\"))\n",
    "values = x + y + z\n",
    "print(values)\n"
   ]
  },
  {
   "cell_type": "code",
   "execution_count": null,
   "metadata": {},
   "outputs": [
    {
     "name": "stdout",
     "output_type": "stream",
     "text": [
      "Invalid input! Please enter a valid 4-digit number.\n"
     ]
    }
   ],
   "source": [
    "#5.Write a program that will reverse a four digit number.Also it checks whether the reverse is true.\n",
    "number = (input(\"give me 4digit number\"))\n",
    "\n",
    "if number.isdigit() and len(number) == 4:\n",
    "    reverse = number[::-1]\n",
    "    print(\"Original Number is: \",number)\n",
    "    print(\"Reverse Number is: \",reverse)\n",
    "\n",
    "    if number == reverse:\n",
    "        print(\"the number is same when reversed aka palindrome\")\n",
    "    else:\n",
    "        print(\"the number is not same when reversed\")\n",
    "else:\n",
    "    print(\"Invalid input! Please enter a valid 4-digit number.\")"
   ]
  },
  {
   "cell_type": "code",
   "execution_count": null,
   "metadata": {},
   "outputs": [
    {
     "name": "stdout",
     "output_type": "stream",
     "text": [
      "Even\n"
     ]
    }
   ],
   "source": [
    "#6.Write a program that will tell whether the number entered by the user is odd or even.\n",
    "number = int(input(\"enter the number\"))\n",
    "\n",
    "if number%2 == 0:\n",
    "    print(\"Even\")\n",
    "else:\n",
    "    print(\"Odd\")"
   ]
  },
  {
   "cell_type": "code",
   "execution_count": null,
   "metadata": {},
   "outputs": [
    {
     "name": "stdout",
     "output_type": "stream",
     "text": [
      "Leap Year\n"
     ]
    }
   ],
   "source": [
    "# 7.Write a program that will tell whether the given year is a leap year or not.\n",
    "\n",
    "year = int(input(\"what is the year?\"))\n",
    "\n",
    "if (year%4 == 0 and year%100 != 0) or year%400 == 0:\n",
    "    print(\"Leap Year\")\n",
    "else:\n",
    "    print(\"Not Leap Year\")"
   ]
  },
  {
   "cell_type": "code",
   "execution_count": null,
   "metadata": {},
   "outputs": [
    {
     "name": "stdout",
     "output_type": "stream",
     "text": [
      "^x: 2 ^y: 2\n",
      "Euclidean distance: 2.8284 \n"
     ]
    }
   ],
   "source": [
    "# 8. Write a program to find the euclidean distance between two coordinates.\n",
    "import math\n",
    "values = list(map(int,input(\"Enter x1 y1 x2 y2 :\").split()))\n",
    "x1, y1 , x2 , y2 = values\n",
    "\n",
    "delta_x = x2 - x1\n",
    "delta_y = y2 -y1\n",
    "print(\"^x:\" , delta_x,\"^y:\" ,delta_y)\n",
    "distance = math.sqrt(delta_x**2 +delta_y**2)\n",
    "print(f\"Euclidean distance: {distance:.4f} \")\n"
   ]
  },
  {
   "cell_type": "code",
   "execution_count": null,
   "metadata": {},
   "outputs": [
    {
     "name": "stdout",
     "output_type": "stream",
     "text": [
      "It forms an triangle\n"
     ]
    }
   ],
   "source": [
    "#9. Write a program that take a user input of three angles and will find out whether it can form a triangle or not.\n",
    "a,b,c = list(map(int,input(\"give three angles \").split()))\n",
    "\n",
    "if a + b + c == 180 and a>0 and b>0 and c>0:\n",
    "    print(\"It forms an triangle\")\n",
    "else:\n",
    "    print(\"not an triangle\")"
   ]
  },
  {
   "cell_type": "code",
   "execution_count": null,
   "metadata": {},
   "outputs": [
    {
     "name": "stdout",
     "output_type": "stream",
     "text": [
      "profit\n"
     ]
    }
   ],
   "source": [
    "# 10. Write a program that will take user input of cost price and selling price and determines whether its a loss or a profit\n",
    "costPrice = int(input(\"what is the Cost Price?\"))\n",
    "sellingPrice = int(input(\"what is the Selling Price?\"))\n",
    "\n",
    "if costPrice < sellingPrice:\n",
    "    print(\"profit\")\n",
    "elif costPrice > sellingPrice:\n",
    "    print(\"loss\")\n",
    "else:\n",
    "    print(\"break even\")"
   ]
  },
  {
   "cell_type": "code",
   "execution_count": null,
   "metadata": {},
   "outputs": [
    {
     "name": "stdout",
     "output_type": "stream",
     "text": [
      "21 21.0 21\n",
      "Simple Interest: 7.7175\n"
     ]
    }
   ],
   "source": [
    "#11. Write a program to find the simple interest when the value of principle,rate of interest and time period is given.\n",
    "principle = int(input(\"what is principle?\"))\n",
    "interest = float(input(\"what is the interest?\"))\n",
    "time_period = int(input(\"what is the time period in months?\")) #if it is in years use only /100 not /(100*12)\n",
    "print(principle,interest,time_period)\n",
    "simple_interest = principle * interest * time_period / (100 * 12)\n",
    "print(f\"Simple Interest: {simple_interest}\")\n"
   ]
  },
  {
   "cell_type": "code",
   "execution_count": null,
   "metadata": {},
   "outputs": [
    {
     "name": "stdout",
     "output_type": "stream",
     "text": [
      "radius: 20.00\n",
      "height: 20.00\n",
      "volume of the cylinder: 25132.72\n",
      "volume in litres : 25.13272\n",
      "the cost of milk for 25.13272 litres is: 1005.3088\n"
     ]
    }
   ],
   "source": [
    "#12. Write a program to find the volume of the cylinder. Also find the cost when,when the cost of 1litre milk is 40Rs.\n",
    "radius = int(input(\"what is the radius of the cylinder(in cm)?\"))\n",
    "height = int(input(\"what is the height of the cylinder?(in cm)\"))\n",
    "pi = 3.14159\n",
    "\n",
    "volume_of_cylinder = (radius **2) * height * pi\n",
    "print(f\"radius: {radius:.2f}\")\n",
    "print(f\"height: {height:.2f}\")\n",
    "print(f\"volume of the cylinder: {volume_of_cylinder:.2f}\")\n",
    "\n",
    "\n",
    "#now convert the volume in cm to litres \n",
    "volume_in_litres = volume_of_cylinder/1000\n",
    "print(f\"volume in litres : {volume_in_litres}\")\n",
    "cost = volume_in_litres * 40\n",
    "print(f\"the cost of milk for {volume_in_litres} litres is: {cost}\")\n"
   ]
  },
  {
   "cell_type": "code",
   "execution_count": 15,
   "metadata": {},
   "outputs": [
    {
     "name": "stdout",
     "output_type": "stream",
     "text": [
      "divisible by 6 and 3\n"
     ]
    }
   ],
   "source": [
    "#13.Write a program that will tell whether the given number is divisible by 3 & 6.\n",
    "number = int(input(\"Enter The Number \"))\n",
    "\n",
    "\n",
    "if number%6 == 0:\n",
    "    print(\"divisible by 6 and 3\")\n",
    "else:\n",
    "    print(\"not divisible\")\n"
   ]
  },
  {
   "cell_type": "markdown",
   "metadata": {},
   "source": [
    "16. Write a program that will determine weather when the value of\n",
    "temperature and humidity is provided by the user.\n",
    "TEMPERATURE(C) HUMIDITY(%) WEATHER\n",
    ">= 30 >=90 Hot and Humid\n",
    ">= 30 < 90 Hot\n",
    "<30 >= 90 Cool and Humid\n",
    "<30 <90 Cool"
   ]
  },
  {
   "cell_type": "code",
   "execution_count": null,
   "metadata": {},
   "outputs": [
    {
     "name": "stdout",
     "output_type": "stream",
     "text": [
      "Cool and Humid\n"
     ]
    }
   ],
   "source": [
    "#16 solution\n",
    "\n",
    "temperature = int(input(\"Enter The Temperature\"))\n",
    "humidity = int(input(\"Enter The Humidity\"))\n",
    "\n",
    "if temperature >= 30 and humidity >= 90:\n",
    "    print(\"Hot and Humid\")\n",
    "elif temperature >=30 and humidity < 90:\n",
    "    print(\"Hot\")\n",
    "elif temperature < 30 and humidity >= 90:\n",
    "    print(\"Cool and Humid\")\n",
    "else:\n",
    "    print(\"Cool\")\n",
    "    \n"
   ]
  },
  {
   "cell_type": "markdown",
   "metadata": {},
   "source": [
    "17. Write a program that will take three digits from the user and add\n",
    "the square of each digit."
   ]
  },
  {
   "cell_type": "code",
   "execution_count": null,
   "metadata": {},
   "outputs": [
    {
     "name": "stdout",
     "output_type": "stream",
     "text": [
      "[1, 4, 9]\n"
     ]
    },
    {
     "data": {
      "text/plain": [
       "14"
      ]
     },
     "execution_count": 8,
     "metadata": {},
     "output_type": "execute_result"
    }
   ],
   "source": [
    "#17 solution\n",
    "\n",
    "Numbers = list(map(int,input(\"Enter Three Digit Number\")))\n",
    "squared = []\n",
    "\n",
    "for i in Numbers:\n",
    "    squared.append(i **2)\n",
    "\n",
    "print(squared)\n",
    "output = sum(squared)\n",
    "print(output)\n",
    "\n",
    "\n"
   ]
  },
  {
   "cell_type": "markdown",
   "metadata": {},
   "source": [
    "18. Write a program that will check whether the number is armstrong\n",
    "number or not."
   ]
  },
  {
   "cell_type": "code",
   "execution_count": 35,
   "metadata": {},
   "outputs": [
    {
     "name": "stdout",
     "output_type": "stream",
     "text": [
      "[1, 8, 27]\n",
      "Not an Armstrong Number\n"
     ]
    }
   ],
   "source": [
    "#18 solution\n",
    "Number = int(input(\"Enter the Number\"))\n",
    "power = len(str(Number))\n",
    "digits = []\n",
    "\n",
    "for digit in str(Number):\n",
    "    digits.append(int(digit) **power)\n",
    "print(digits)\n",
    "\n",
    "output = sum(digits)\n",
    "\n",
    "if output == Number:\n",
    "    print(\"Amstrong Number\")\n",
    "else:\n",
    "    print(\"Not an Armstrong Number\")\n"
   ]
  },
  {
   "cell_type": "markdown",
   "metadata": {},
   "source": [
    "19. Write a program that will take user input of (4 digits number) and\n",
    "check whether the number is narcissist number or not."
   ]
  },
  {
   "cell_type": "code",
   "execution_count": 39,
   "metadata": {},
   "outputs": [
    {
     "name": "stdout",
     "output_type": "stream",
     "text": [
      "Amstrong Number\n"
     ]
    }
   ],
   "source": [
    "#19 solution\n",
    "Number = int(input(\"Enter Four Digit Number\"))\n",
    "digits = []\n",
    "if len(str(Number)) == 4:\n",
    "    for digit in str(Number):\n",
    "        digits.append(int(digit) ** 4)\n",
    "\n",
    "    output = sum(digits)\n",
    "\n",
    "    if output == Number:\n",
    "        print(\"Amstrong Number\")\n",
    "    else:\n",
    "        print(\"Not an Armstrong Number\")\n",
    "\n",
    "else:\n",
    "    print(\"Enter 4 digit Number\")\n",
    "\n"
   ]
  },
  {
   "cell_type": "markdown",
   "metadata": {},
   "source": [
    "20. Write a program that will give you the in hand salary after\n",
    "deduction of HRA(10%),DA(5%),PF(3%), and tax(if salary is between\n",
    "5-10 lakh–10%),(11-20lakh–20%),(20<\n",
    "_\n",
    "– 30%)(0-1lakh print k)."
   ]
  },
  {
   "cell_type": "code",
   "execution_count": null,
   "metadata": {},
   "outputs": [
    {
     "name": "stdout",
     "output_type": "stream",
     "text": [
      "Salary: 1000000\n",
      "hra: 100000.0\n",
      "da: 50000.0\n",
      "pf: 30000.0\n",
      "tax: 300000.0\n",
      "In Hand Salary: 520000.0\n"
     ]
    }
   ],
   "source": [
    "#20 solution\n",
    "\n",
    "salary = int(input(\"Enter The Salary\"))\n",
    "print(f\"Salary: {salary}\")\n",
    "\n",
    "hra = (10/100) * salary\n",
    "print(f'hra: {hra}')\n",
    "da = (5/100) * salary\n",
    "print(f'da: {da}')\n",
    "pf = (3/100) * salary\n",
    "print(f'pf: {pf}')\n",
    "\n",
    "tax = 0\n",
    "\n",
    "if salary <= 100000:\n",
    "    print(\"k\")\n",
    "else:\n",
    "    if salary >= 2000000:\n",
    "        tax = (30/100) * salary\n",
    "    elif salary >= 1100000:\n",
    "        tax = (20/100) * salary\n",
    "    elif salary >= 500000:\n",
    "        tax = (10/100) * salary\n",
    "    else:\n",
    "        tax = 0\n",
    "print(f\"tax: {tax}\")\n",
    "\n",
    "in_hand_salary = salary - da - hra - pf - tax\n",
    "print(f\"In Hand Salary: {in_hand_salary}\")\n"
   ]
  },
  {
   "cell_type": "markdown",
   "metadata": {},
   "source": [
    "21. Write a menu driven program - 1.cm to ft 2.kl to miles 3.usd to inr\n",
    "4.exit"
   ]
  },
  {
   "cell_type": "code",
   "execution_count": null,
   "metadata": {},
   "outputs": [
    {
     "name": "stdout",
     "output_type": "stream",
     "text": [
      "100.0usd in inr: 8274.0\n"
     ]
    }
   ],
   "source": [
    "#21 solution\n",
    "\n",
    "menu = int(input(''''\n",
    "      1.Enter 1 to convert cm to feet\n",
    "      2.Enter 2 to convert km to miles\n",
    "      3.Enter 3 to convert usd to inr\n",
    "      4.Enter 4 to exit\n",
    "\n",
    "'''))\n",
    "cm = 0\n",
    "feet = 0\n",
    "km = 0 \n",
    "miles =0\n",
    "usd = 0\n",
    "inr = 0\n",
    "\n",
    "if menu == 1:\n",
    "    cm =  int(input(\"Enter cm's\"))\n",
    "    feet = cm/30.48\n",
    "    print(f\"{cm}cm in feet:{feet} \")\n",
    "elif menu == 2:\n",
    "    km = int(input(\"Enter Km's\"))\n",
    "    miles = float(km * 0.621371)\n",
    "    print(f\"{km}km in miles: {miles}\")\n",
    "elif menu == 3:\n",
    "    usd = float(input(\"Enter amount in usd\"))\n",
    "    inr = usd * 82.74\n",
    "    print(f\"{usd}USD in INR: {inr}\")\n",
    "elif menu == 4:\n",
    "    print(\"exiting Program....\")\n",
    "else:\n",
    "    print(\"Invalid Input\")\n"
   ]
  },
  {
   "cell_type": "markdown",
   "metadata": {},
   "source": [
    "22. Write a program that will tell the number of dogs and chicken are\n",
    "there when the user will provide the value of total heads and legs.\n"
   ]
  },
  {
   "cell_type": "code",
   "execution_count": null,
   "metadata": {},
   "outputs": [],
   "source": []
  },
  {
   "cell_type": "markdown",
   "metadata": {},
   "source": [
    "23. Write a program that will swap numbers"
   ]
  },
  {
   "cell_type": "code",
   "execution_count": 2,
   "metadata": {},
   "outputs": [
    {
     "name": "stdout",
     "output_type": "stream",
     "text": [
      "20 10\n"
     ]
    }
   ],
   "source": [
    "#23 solution\n",
    "a = int(input(\"Value of a?\"))\n",
    "b = int(input(\"value of b?\"))\n",
    "\n",
    "temp = 0 \n",
    "temp = a\n",
    "a = b\n",
    "b = temp\n",
    "print(a,b)\n"
   ]
  },
  {
   "cell_type": "markdown",
   "metadata": {},
   "source": [
    "24. Write a program to find the sum of first n numbers, where n will be\n",
    "provided by the user. Eg if the user provides n=10 the output should be 55"
   ]
  },
  {
   "cell_type": "code",
   "execution_count": 15,
   "metadata": {},
   "outputs": [
    {
     "name": "stdout",
     "output_type": "stream",
     "text": [
      "sum of First 10 Numbers is 55\n"
     ]
    }
   ],
   "source": [
    "n = int(input(\"Enter the Number: \"))\n",
    "sum_n = 0\n",
    "\n",
    "for i in range(1,n+1):\n",
    "    sum_n += i\n",
    "\n",
    "print(f\"sum of First {n} Numbers is {sum_n}\")"
   ]
  },
  {
   "cell_type": "markdown",
   "metadata": {},
   "source": [
    "25. Write a program that can multiply 2 numbers provided by the user\n",
    "without using the * operator"
   ]
  },
  {
   "cell_type": "code",
   "execution_count": 22,
   "metadata": {},
   "outputs": [
    {
     "name": "stdout",
     "output_type": "stream",
     "text": [
      "the result of multiplying 10 and 20 is : None\n"
     ]
    }
   ],
   "source": [
    "def multiply(a,b):\n",
    "    result = 0\n",
    "    \n",
    "    for _ in range(abs(b)):\n",
    "        result += a\n",
    "\n",
    "    if (a < 0 and b >= 0) or (a >= 0 and b < 0 ):\n",
    "        result = -result\n",
    "        return result\n",
    "number1 = int(input(\"Enter the value of A\"))\n",
    "number2  = int(input(\"Enter the value of B\"))\n",
    "\n",
    "print(f\"the result of multiplying {number1} and {number2} is : {multiply(number1,number2)}\")\n"
   ]
  },
  {
   "cell_type": "markdown",
   "metadata": {},
   "source": [
    "26. Write a program that can find the factorial of a given number provided\n",
    "by the user."
   ]
  },
  {
   "cell_type": "code",
   "execution_count": 9,
   "metadata": {},
   "outputs": [
    {
     "data": {
      "text/plain": [
       "120"
      ]
     },
     "execution_count": 9,
     "metadata": {},
     "output_type": "execute_result"
    }
   ],
   "source": [
    "#26 solution\n",
    "\n",
    "def fact(number):\n",
    "    if number == 1:\n",
    "        return 1\n",
    "    else:\n",
    "        return number * fact(number-1)\n",
    "    \n",
    "fact(5)"
   ]
  },
  {
   "cell_type": "markdown",
   "metadata": {},
   "source": [
    "27. Write a program to print the first 25 odd numbers"
   ]
  },
  {
   "cell_type": "code",
   "execution_count": 14,
   "metadata": {},
   "outputs": [
    {
     "name": "stdout",
     "output_type": "stream",
     "text": [
      "First 25 Odd number: [1, 3, 5, 7, 9, 11, 13, 15, 17, 19, 21, 23, 25, 27, 29, 31, 33, 35, 37, 39, 41, 43, 45, 47, 49]\n"
     ]
    }
   ],
   "source": [
    "#27 solution\n",
    "L = range(50)\n",
    "Odd = []\n",
    "\n",
    "for i in L:\n",
    "    if i%2 != 0:\n",
    "        Odd.append(i)\n",
    "print(f\"First 25 Odd number: {Odd}\")"
   ]
  },
  {
   "cell_type": "markdown",
   "metadata": {},
   "source": [
    "28. Write a program to print whether a given number is prime number or\n",
    "not"
   ]
  },
  {
   "cell_type": "code",
   "execution_count": 57,
   "metadata": {},
   "outputs": [
    {
     "data": {
      "text/plain": [
       "'not an prime number'"
      ]
     },
     "execution_count": 57,
     "metadata": {},
     "output_type": "execute_result"
    }
   ],
   "source": [
    "def is_prime(number):\n",
    "    if number == 0 or number == 1:\n",
    "        return \"not an prime number\"\n",
    "    elif number == 2:\n",
    "        return \"2 is only even prime number\"\n",
    "    else:\n",
    "        for i in range(2,number):\n",
    "            if number%i == 0:\n",
    "                return \"not an prime number\"\n",
    "        return \"prime number\"\n",
    "    \n",
    "\n",
    "is_prime(9)\n",
    "    \n"
   ]
  },
  {
   "cell_type": "markdown",
   "metadata": {},
   "source": [
    "29. Print all the armstrong numbers in the range of 100 to 1000"
   ]
  },
  {
   "cell_type": "code",
   "execution_count": null,
   "metadata": {},
   "outputs": [
    {
     "name": "stdout",
     "output_type": "stream",
     "text": [
      "Amstrong Number from 100 to 1000: [153, 370, 371, 407]\n"
     ]
    }
   ],
   "source": [
    "armstrongNumber = []\n",
    "for i in range(100,1000):\n",
    "    str_i = str(i)\n",
    "    cube_sum = int(str_i[0])**3 + int(str_i[1])**3 + int(str_i[2])**3\n",
    "    if cube_sum == i:\n",
    "        armstrongNumber.append(i)\n",
    "print(f\"Amstrong Number from 100 to 1000: {armstrongNumber}\")"
   ]
  },
  {
   "cell_type": "markdown",
   "metadata": {},
   "source": [
    "30. The current population of a town is 10000. The population of the town is\n",
    "increasing at the rate of 10% per year. You have to write a program to\n",
    "find out the population at the end of each of the last 10 years. For eg\n",
    "current population is 10000 so the output should be like this:\n",
    "10th year - 10000\n",
    "9th year - 9000\n",
    "8th year - 8100 and so on"
   ]
  },
  {
   "cell_type": "code",
   "execution_count": null,
   "metadata": {},
   "outputs": [],
   "source": []
  },
  {
   "cell_type": "markdown",
   "metadata": {},
   "source": [
    "31. Write a program to print all the unique combinations of 1,2,3 and 4"
   ]
  },
  {
   "cell_type": "code",
   "execution_count": 91,
   "metadata": {},
   "outputs": [
    {
     "name": "stdout",
     "output_type": "stream",
     "text": [
      "(1, 2, 3, 4)\n",
      "(1, 2, 4, 3)\n",
      "(1, 3, 2, 4)\n",
      "(1, 3, 4, 2)\n",
      "(1, 4, 2, 3)\n",
      "(1, 4, 3, 2)\n",
      "(2, 1, 3, 4)\n",
      "(2, 1, 4, 3)\n",
      "(2, 3, 1, 4)\n",
      "(2, 3, 4, 1)\n",
      "(2, 4, 1, 3)\n",
      "(2, 4, 3, 1)\n",
      "(3, 1, 2, 4)\n",
      "(3, 1, 4, 2)\n",
      "(3, 2, 1, 4)\n",
      "(3, 2, 4, 1)\n",
      "(3, 4, 1, 2)\n",
      "(3, 4, 2, 1)\n",
      "(4, 1, 2, 3)\n",
      "(4, 1, 3, 2)\n",
      "(4, 2, 1, 3)\n",
      "(4, 2, 3, 1)\n",
      "(4, 3, 1, 2)\n",
      "(4, 3, 2, 1)\n"
     ]
    }
   ],
   "source": [
    "from itertools import permutations\n",
    "\n",
    "L = [1,2,3,4]\n",
    "\n",
    "for combo in permutations(L):\n",
    "    print(combo)"
   ]
  },
  {
   "cell_type": "code",
   "execution_count": null,
   "metadata": {},
   "outputs": [],
   "source": []
  }
 ],
 "metadata": {
  "kernelspec": {
   "display_name": "myenv",
   "language": "python",
   "name": "python3"
  },
  "language_info": {
   "codemirror_mode": {
    "name": "ipython",
    "version": 3
   },
   "file_extension": ".py",
   "mimetype": "text/x-python",
   "name": "python",
   "nbconvert_exporter": "python",
   "pygments_lexer": "ipython3",
   "version": "3.13.2"
  }
 },
 "nbformat": 4,
 "nbformat_minor": 2
}
