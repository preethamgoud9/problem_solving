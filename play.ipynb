{
 "cells": [
  {
   "cell_type": "code",
   "execution_count": 1,
   "metadata": {},
   "outputs": [],
   "source": [
    "b = lambda x: \"Even\" if x%2 == 0 else \"Odd\""
   ]
  },
  {
   "cell_type": "code",
   "execution_count": 5,
   "metadata": {},
   "outputs": [
    {
     "data": {
      "text/plain": [
       "'Even'"
      ]
     },
     "execution_count": 5,
     "metadata": {},
     "output_type": "execute_result"
    }
   ],
   "source": [
    "b(8)"
   ]
  },
  {
   "cell_type": "code",
   "execution_count": 7,
   "metadata": {},
   "outputs": [
    {
     "data": {
      "text/plain": [
       "[3, 6, 9, 12, 15]"
      ]
     },
     "execution_count": 7,
     "metadata": {},
     "output_type": "execute_result"
    }
   ],
   "source": [
    "L = [1,2,3,4,5]\n",
    "list(map(lambda x:x*3,L))"
   ]
  },
  {
   "cell_type": "code",
   "execution_count": 11,
   "metadata": {},
   "outputs": [
    {
     "data": {
      "text/plain": [
       "[2, 4, 6, 8, 10]"
      ]
     },
     "execution_count": 11,
     "metadata": {},
     "output_type": "execute_result"
    }
   ],
   "source": [
    "L1 = [1,2,3,4,5,6,7,8,9,10]\n",
    "filter(lambda x: x%2==0,L1)\n",
    "list(filter(lambda x: x%2==0,L1))"
   ]
  },
  {
   "cell_type": "code",
   "execution_count": 15,
   "metadata": {},
   "outputs": [
    {
     "name": "stdout",
     "output_type": "stream",
     "text": [
      "reduce(function, iterable[, initial], /) -> value\n",
      "\n",
      "Apply a function of two arguments cumulatively to the items of an iterable, from left to right.\n",
      "\n",
      "This effectively reduces the iterable to a single value.  If initial is present,\n",
      "it is placed before the items of the iterable in the calculation, and serves as\n",
      "a default when the iterable is empty.\n",
      "\n",
      "For example, reduce(lambda x, y: x+y, [1, 2, 3, 4, 5])\n",
      "calculates ((((1 + 2) + 3) + 4) + 5).\n"
     ]
    }
   ],
   "source": [
    "import functools\n",
    "print(functools.reduce.__doc__)"
   ]
  },
  {
   "cell_type": "code",
   "execution_count": 28,
   "metadata": {},
   "outputs": [
    {
     "name": "stdout",
     "output_type": "stream",
     "text": [
      "[4, 8, 12, 16, 20, 24, 28, 32, 36, 40]\n"
     ]
    }
   ],
   "source": [
    "L = [1,2,3,4,5,6,7,8,9,10,11,12,13,14,15,16,17,18,19,20]\n",
    "L1 = [item *2 for item in L if item%2==0]\n",
    "print(L1)"
   ]
  },
  {
   "cell_type": "code",
   "execution_count": 37,
   "metadata": {},
   "outputs": [
    {
     "name": "stdout",
     "output_type": "stream",
     "text": [
      "{'name': 'preetham', 'income': '100kusd'}\n"
     ]
    }
   ],
   "source": [
    "D = {\"name\":\"preetham\",\"age\":\"22\",\"income\":\"100kusd\"}\n",
    "D1 = {key:value for key,value in D.items() if len(key) > 3}\n",
    "print(D1)"
   ]
  },
  {
   "cell_type": "markdown",
   "metadata": {},
   "source": [
    "Recursion"
   ]
  },
  {
   "cell_type": "code",
   "execution_count": 60,
   "metadata": {},
   "outputs": [],
   "source": [
    "#by looping\n",
    "def multiply(a,b):\n",
    "    result = 0\n",
    "    for i in range(b):\n",
    "        result = result + a\n",
    "    print(result)"
   ]
  },
  {
   "cell_type": "code",
   "execution_count": 62,
   "metadata": {},
   "outputs": [
    {
     "name": "stdout",
     "output_type": "stream",
     "text": [
      "8\n"
     ]
    }
   ],
   "source": [
    "multiply(2,4)"
   ]
  },
  {
   "cell_type": "markdown",
   "metadata": {},
   "source": [
    "Factorial using recursion"
   ]
  },
  {
   "cell_type": "code",
   "execution_count": 75,
   "metadata": {},
   "outputs": [],
   "source": [
    "def fact(number):\n",
    "    if number == 1:\n",
    "        return 1\n",
    "    else:\n",
    "        return number * fact(number-1)"
   ]
  },
  {
   "cell_type": "code",
   "execution_count": 76,
   "metadata": {},
   "outputs": [
    {
     "data": {
      "text/plain": [
       "120"
      ]
     },
     "execution_count": 76,
     "metadata": {},
     "output_type": "execute_result"
    }
   ],
   "source": [
    "fact(5)"
   ]
  },
  {
   "cell_type": "code",
   "execution_count": 82,
   "metadata": {},
   "outputs": [
    {
     "name": "stdout",
     "output_type": "stream",
     "text": [
      "not an palimdrome\n"
     ]
    }
   ],
   "source": [
    "value = input(\"\")\n",
    "reverse = value[::-1]\n",
    "if value == reverse:\n",
    "    print(\"it is an palindrome\")\n",
    "else:\n",
    "    print(\"not an palimdrome\")"
   ]
  },
  {
   "cell_type": "code",
   "execution_count": 115,
   "metadata": {},
   "outputs": [],
   "source": [
    "def palin(text):\n",
    "    if len(text) <= 1:\n",
    "        print(\"palimdrome\")\n",
    "    else:\n",
    "        if text[0] == text[-1]:\n",
    "            palin(text[1:-1])\n",
    "        else:\n",
    "            print(\"not an palindrome\")"
   ]
  },
  {
   "cell_type": "code",
   "execution_count": 116,
   "metadata": {},
   "outputs": [
    {
     "name": "stdout",
     "output_type": "stream",
     "text": [
      "palimdrome\n"
     ]
    }
   ],
   "source": [
    "palin(\"ee\")"
   ]
  },
  {
   "cell_type": "code",
   "execution_count": 8,
   "metadata": {},
   "outputs": [
    {
     "name": "stdout",
     "output_type": "stream",
     "text": [
      "[1, 3, 5, 7, 9, 11, 13, 15, 17, 19, 21, 23, 25, 27, 29, 31, 33, 35, 37, 39, 41, 43, 45, 47, 49]\n"
     ]
    }
   ],
   "source": [
    "# 27. Write a program to print the first 25 odd numbers\n",
    "\n",
    "L = range(1,50)\n",
    "Odd = []\n",
    "for i in L:\n",
    "    if i%2!=0:\n",
    "        Odd.append(i)\n",
    "\n",
    "print(Odd)"
   ]
  },
  {
   "cell_type": "code",
   "execution_count": 9,
   "metadata": {},
   "outputs": [
    {
     "data": {
      "text/plain": [
       "55"
      ]
     },
     "execution_count": 9,
     "metadata": {},
     "output_type": "execute_result"
    }
   ],
   "source": [
    "def fibb(n):\n",
    "    if n == 0:\n",
    "        return 0\n",
    "    if n == 1:\n",
    "        return 1\n",
    "    else:\n",
    "        return fibb(n-1) + fibb(n-2)\n",
    "    \n",
    "fibb(10)"
   ]
  },
  {
   "cell_type": "code",
   "execution_count": null,
   "metadata": {},
   "outputs": [],
   "source": []
  },
  {
   "cell_type": "code",
   "execution_count": null,
   "metadata": {},
   "outputs": [],
   "source": []
  },
  {
   "cell_type": "code",
   "execution_count": null,
   "metadata": {},
   "outputs": [],
   "source": []
  }
 ],
 "metadata": {
  "kernelspec": {
   "display_name": "myenv",
   "language": "python",
   "name": "python3"
  },
  "language_info": {
   "codemirror_mode": {
    "name": "ipython",
    "version": 3
   },
   "file_extension": ".py",
   "mimetype": "text/x-python",
   "name": "python",
   "nbconvert_exporter": "python",
   "pygments_lexer": "ipython3",
   "version": "3.13.2"
  }
 },
 "nbformat": 4,
 "nbformat_minor": 2
}
